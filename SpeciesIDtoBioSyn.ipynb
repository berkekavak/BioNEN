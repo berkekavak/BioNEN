{
 "cells": [
  {
   "cell_type": "code",
   "execution_count": 1,
   "metadata": {},
   "outputs": [],
   "source": [
    "import os, sys"
   ]
  },
  {
   "cell_type": "code",
   "execution_count": 28,
   "metadata": {},
   "outputs": [],
   "source": [
    "!rm -rf 'data/input/.DS_Store'\n",
    "\n",
    "speciesdct = {}\n",
    "for file in os.listdir('data/input/'):\n",
    "    with open('data/input/' + file) as f:\n",
    "        lines = [line.rstrip('\\n') for line in f]\n",
    "        for line in lines:\n",
    "            if ((len(line.split('\\t')) > 1)):\n",
    "                if((line.split('\\t')[4] == 'Species')):\n",
    "                     speciesdct[line.split('\\t')[3]] = line.split('\\t')[-1]"
   ]
  },
  {
   "cell_type": "code",
   "execution_count": 31,
   "metadata": {},
   "outputs": [],
   "source": [
    "with open('data/output/train_dictionary.txt', 'w') as f:\n",
    "    for s in speciesdct:\n",
    "        f.write(speciesdct[s] + '||' + s + '\\n')"
   ]
  }
 ],
 "metadata": {
  "kernelspec": {
   "display_name": "Python 3",
   "language": "python",
   "name": "python3"
  },
  "language_info": {
   "codemirror_mode": {
    "name": "ipython",
    "version": 3
   },
   "file_extension": ".py",
   "mimetype": "text/x-python",
   "name": "python",
   "nbconvert_exporter": "python",
   "pygments_lexer": "ipython3",
   "version": "3.8.5"
  }
 },
 "nbformat": 4,
 "nbformat_minor": 5
}
