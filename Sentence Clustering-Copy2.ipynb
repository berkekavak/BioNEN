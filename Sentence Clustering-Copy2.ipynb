{
 "cells": [
  {
   "cell_type": "code",
   "execution_count": 1,
   "metadata": {},
   "outputs": [
    {
     "name": "stderr",
     "output_type": "stream",
     "text": [
      "C:\\ProgramData\\Miniconda3\\lib\\site-packages\\scipy\\__init__.py:173: UserWarning: A NumPy version >=1.19.5 and <1.27.0 is required for this version of SciPy (detected version 1.19.2)\n",
      "  warnings.warn(f\"A NumPy version >={np_minversion} and <{np_maxversion}\"\n"
     ]
    }
   ],
   "source": [
    "import os, re, time\n",
    "import pandas as pd\n",
    "from ftfy import fix_text\n",
    "from sklearn.metrics.pairwise import cosine_similarity\n",
    "from sklearn.feature_extraction.text import TfidfVectorizer\n",
    "from sklearn.neighbors import NearestNeighbors\n",
    "from sklearn.cluster import KMeans\n",
    "import pandas as pd\n",
    "from itertools import product"
   ]
  },
  {
   "cell_type": "code",
   "execution_count": 2,
   "metadata": {},
   "outputs": [],
   "source": [
    "#Reads S800 Dataset\n",
    "\n",
    "s800 = pd.read_csv('data/input/S800/S800.tsv',sep='\\t',header=None)\n",
    "s800_x = s800[[0,4]].drop_duplicates(subset=4).reset_index(drop=True)"
   ]
  },
  {
   "cell_type": "code",
   "execution_count": 3,
   "metadata": {},
   "outputs": [],
   "source": [
    "#Reads other species datasets\n",
    "\n",
    "speciesdct = {}\n",
    "for file in os.listdir('data/input/'):\n",
    "    if file.endswith('.PubTator'):\n",
    "        with open('data/input/' + file) as f:\n",
    "            lines = [line.rstrip('\\n') for line in f]\n",
    "            for line in lines:\n",
    "                if ((len(line.split('\\t')) > 1)):\n",
    "                    if((line.split('\\t')[4] == 'Species')):\n",
    "                         speciesdct[line.split('\\t')[3]] = line.split('\\t')[-1]"
   ]
  },
  {
   "cell_type": "code",
   "execution_count": 4,
   "metadata": {},
   "outputs": [],
   "source": [
    "#Constructs the train test\n",
    "\n",
    "s800 = s800_x.rename(columns={4:'index'})\n",
    "spec = pd.DataFrame.from_dict(speciesdct, orient='index').reset_index()\n",
    "final = pd.concat([s800, spec])\n",
    "final = final.drop_duplicates(subset=['index']).reset_index(drop=True)\n",
    "train = final.head(200)"
   ]
  },
  {
   "cell_type": "code",
   "execution_count": 5,
   "metadata": {},
   "outputs": [],
   "source": [
    "# Match each entry with every entry\n",
    "\n",
    "train_index = train['index']\n",
    "s = pd.DataFrame(list(product(train_index, train_index)), columns=['S1', 'S2'])"
   ]
  },
  {
   "cell_type": "code",
   "execution_count": 9,
   "metadata": {},
   "outputs": [
    {
     "data": {
      "text/html": [
       "<div>\n",
       "<style scoped>\n",
       "    .dataframe tbody tr th:only-of-type {\n",
       "        vertical-align: middle;\n",
       "    }\n",
       "\n",
       "    .dataframe tbody tr th {\n",
       "        vertical-align: top;\n",
       "    }\n",
       "\n",
       "    .dataframe thead th {\n",
       "        text-align: right;\n",
       "    }\n",
       "</style>\n",
       "<table border=\"1\" class=\"dataframe\">\n",
       "  <thead>\n",
       "    <tr style=\"text-align: right;\">\n",
       "      <th></th>\n",
       "      <th>S1</th>\n",
       "      <th>S2</th>\n",
       "    </tr>\n",
       "  </thead>\n",
       "  <tbody>\n",
       "    <tr>\n",
       "      <th>0</th>\n",
       "      <td>Plasmodium falciparum</td>\n",
       "      <td>Plasmodium falciparum</td>\n",
       "    </tr>\n",
       "    <tr>\n",
       "      <th>1</th>\n",
       "      <td>Plasmodium falciparum</td>\n",
       "      <td>P falciparum</td>\n",
       "    </tr>\n",
       "    <tr>\n",
       "      <th>2</th>\n",
       "      <td>Plasmodium falciparum</td>\n",
       "      <td>Candida guilliermondii</td>\n",
       "    </tr>\n",
       "    <tr>\n",
       "      <th>3</th>\n",
       "      <td>Plasmodium falciparum</td>\n",
       "      <td>yeast</td>\n",
       "    </tr>\n",
       "    <tr>\n",
       "      <th>4</th>\n",
       "      <td>Plasmodium falciparum</td>\n",
       "      <td>C. guilliermondii</td>\n",
       "    </tr>\n",
       "    <tr>\n",
       "      <th>...</th>\n",
       "      <td>...</td>\n",
       "      <td>...</td>\n",
       "    </tr>\n",
       "    <tr>\n",
       "      <th>39995</th>\n",
       "      <td>soybean</td>\n",
       "      <td>charr's</td>\n",
       "    </tr>\n",
       "    <tr>\n",
       "      <th>39996</th>\n",
       "      <td>soybean</td>\n",
       "      <td>charr</td>\n",
       "    </tr>\n",
       "    <tr>\n",
       "      <th>39997</th>\n",
       "      <td>soybean</td>\n",
       "      <td>Mauritius kestrel</td>\n",
       "    </tr>\n",
       "    <tr>\n",
       "      <th>39998</th>\n",
       "      <td>soybean</td>\n",
       "      <td>Phytophthora sojae</td>\n",
       "    </tr>\n",
       "    <tr>\n",
       "      <th>39999</th>\n",
       "      <td>soybean</td>\n",
       "      <td>soybean</td>\n",
       "    </tr>\n",
       "  </tbody>\n",
       "</table>\n",
       "<p>40000 rows × 2 columns</p>\n",
       "</div>"
      ],
      "text/plain": [
       "                          S1                      S2\n",
       "0      Plasmodium falciparum   Plasmodium falciparum\n",
       "1      Plasmodium falciparum            P falciparum\n",
       "2      Plasmodium falciparum  Candida guilliermondii\n",
       "3      Plasmodium falciparum                   yeast\n",
       "4      Plasmodium falciparum       C. guilliermondii\n",
       "...                      ...                     ...\n",
       "39995                soybean                 charr's\n",
       "39996                soybean                   charr\n",
       "39997                soybean       Mauritius kestrel\n",
       "39998                soybean      Phytophthora sojae\n",
       "39999                soybean                 soybean\n",
       "\n",
       "[40000 rows x 2 columns]"
      ]
     },
     "execution_count": 9,
     "metadata": {},
     "output_type": "execute_result"
    }
   ],
   "source": [
    "s"
   ]
  },
  {
   "cell_type": "code",
   "execution_count": null,
   "metadata": {},
   "outputs": [],
   "source": [
    "entity_1 = df_train['entity_1'].unique()\n",
    "entity_1 = entity_1.astype('U')\n",
    "\n",
    "# Vectorizes the first entities, used ngrams function defined above for the analyzer\n",
    "vectorizer = TfidfVectorizer(min_df=1, analyzer=ngrams, lowercase=False)\n",
    "# Used fit_transform obtain document-term matrix\n",
    "tfidf = vectorizer.fit_transform(entity_1)"
   ]
  }
 ],
 "metadata": {
  "kernelspec": {
   "display_name": "Python 3",
   "language": "python",
   "name": "python3"
  },
  "language_info": {
   "codemirror_mode": {
    "name": "ipython",
    "version": 3
   },
   "file_extension": ".py",
   "mimetype": "text/x-python",
   "name": "python",
   "nbconvert_exporter": "python",
   "pygments_lexer": "ipython3",
   "version": "3.8.5"
  }
 },
 "nbformat": 4,
 "nbformat_minor": 4
}
