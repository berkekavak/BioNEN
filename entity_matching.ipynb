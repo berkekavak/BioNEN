{
 "cells": [
  {
   "cell_type": "code",
   "execution_count": 1,
   "metadata": {
    "execution": {
     "iopub.execute_input": "2022-08-05T08:44:19.636403Z",
     "iopub.status.busy": "2022-08-05T08:44:19.635572Z",
     "iopub.status.idle": "2022-08-05T08:44:21.020797Z",
     "shell.execute_reply": "2022-08-05T08:44:21.019581Z",
     "shell.execute_reply.started": "2022-08-05T08:44:19.636304Z"
    },
    "id": "0tXZevITEmBV"
   },
   "outputs": [
    {
     "name": "stderr",
     "output_type": "stream",
     "text": [
      "/Users/berkekavak/miniconda3/envs/tazi/lib/python3.8/site-packages/scipy/__init__.py:146: UserWarning: A NumPy version >=1.16.5 and <1.23.0 is required for this version of SciPy (detected version 1.23.1\n",
      "  warnings.warn(f\"A NumPy version >={np_minversion} and <{np_maxversion}\"\n"
     ]
    }
   ],
   "source": [
    "!pip install -q ftfy \n",
    "\n",
    "from ftfy import fix_text\n",
    "import re, sys, os\n",
    "import pandas as pd\n",
    "import numpy as np\n",
    "import time\n",
    "from sklearn.metrics.pairwise import cosine_similarity\n",
    "from sklearn.feature_extraction.text import TfidfVectorizer\n",
    "from sklearn.neighbors import NearestNeighbors\n",
    "from sklearn.preprocessing import MinMaxScaler\n",
    "from sklearn.metrics import classification_report\n",
    "from sklearn.metrics import confusion_matrix"
   ]
  },
  {
   "cell_type": "code",
   "execution_count": 2,
   "metadata": {
    "execution": {
     "iopub.execute_input": "2022-08-05T08:44:21.023139Z",
     "iopub.status.busy": "2022-08-05T08:44:21.022762Z",
     "iopub.status.idle": "2022-08-05T08:44:21.067401Z",
     "shell.execute_reply": "2022-08-05T08:44:21.066435Z",
     "shell.execute_reply.started": "2022-08-05T08:44:21.023102Z"
    },
    "id": "48IVuYr-Mp1I"
   },
   "outputs": [
    {
     "data": {
      "text/html": [
       "<div>\n",
       "<style scoped>\n",
       "    .dataframe tbody tr th:only-of-type {\n",
       "        vertical-align: middle;\n",
       "    }\n",
       "\n",
       "    .dataframe tbody tr th {\n",
       "        vertical-align: top;\n",
       "    }\n",
       "\n",
       "    .dataframe thead th {\n",
       "        text-align: right;\n",
       "    }\n",
       "</style>\n",
       "<table border=\"1\" class=\"dataframe\">\n",
       "  <thead>\n",
       "    <tr style=\"text-align: right;\">\n",
       "      <th></th>\n",
       "      <th>Unnamed: 0</th>\n",
       "      <th>entity_1</th>\n",
       "      <th>entity_2</th>\n",
       "      <th>tag</th>\n",
       "    </tr>\n",
       "  </thead>\n",
       "  <tbody>\n",
       "    <tr>\n",
       "      <th>0</th>\n",
       "      <td>3137667</td>\n",
       "      <td>preciform A.B</td>\n",
       "      <td>Preciform AB</td>\n",
       "      <td>1</td>\n",
       "    </tr>\n",
       "    <tr>\n",
       "      <th>1</th>\n",
       "      <td>5515816</td>\n",
       "      <td>degener staplertechnik vertriebs-gmbh</td>\n",
       "      <td>Irshim</td>\n",
       "      <td>0</td>\n",
       "    </tr>\n",
       "    <tr>\n",
       "      <th>2</th>\n",
       "      <td>215797</td>\n",
       "      <td>Alltel South CaroliNA Inc</td>\n",
       "      <td>alltel south carolina INC.</td>\n",
       "      <td>1</td>\n",
       "    </tr>\n",
       "    <tr>\n",
       "      <th>3</th>\n",
       "      <td>1004621</td>\n",
       "      <td>cse Corporation</td>\n",
       "      <td>Cse Corp</td>\n",
       "      <td>1</td>\n",
       "    </tr>\n",
       "    <tr>\n",
       "      <th>4</th>\n",
       "      <td>1698689</td>\n",
       "      <td>Gruppo D Motors Srl</td>\n",
       "      <td>gruppo d motors Sociedad de Resposabilidad Lim...</td>\n",
       "      <td>1</td>\n",
       "    </tr>\n",
       "  </tbody>\n",
       "</table>\n",
       "</div>"
      ],
      "text/plain": [
       "   Unnamed: 0                               entity_1  \\\n",
       "0     3137667                          preciform A.B   \n",
       "1     5515816  degener staplertechnik vertriebs-gmbh   \n",
       "2      215797              Alltel South CaroliNA Inc   \n",
       "3     1004621                        cse Corporation   \n",
       "4     1698689                    Gruppo D Motors Srl   \n",
       "\n",
       "                                            entity_2  tag  \n",
       "0                                       Preciform AB    1  \n",
       "1                                             Irshim    0  \n",
       "2                         alltel south carolina INC.    1  \n",
       "3                                           Cse Corp    1  \n",
       "4  gruppo d motors Sociedad de Resposabilidad Lim...    1  "
      ]
     },
     "execution_count": 2,
     "metadata": {},
     "output_type": "execute_result"
    }
   ],
   "source": [
    "path = '/Users/berkekavak/alpas/'\n",
    "data = pd.read_csv(path + 'ds_challenge_alpas.csv')\n",
    "data.head()"
   ]
  },
  {
   "cell_type": "code",
   "execution_count": 3,
   "metadata": {
    "colab": {
     "base_uri": "https://localhost:8080/",
     "height": 419
    },
    "execution": {
     "iopub.execute_input": "2022-08-05T08:00:41.616010Z",
     "iopub.status.busy": "2022-08-05T08:00:41.615196Z",
     "iopub.status.idle": "2022-08-05T08:00:41.632540Z",
     "shell.execute_reply": "2022-08-05T08:00:41.631401Z",
     "shell.execute_reply.started": "2022-08-05T08:00:41.615965Z"
    },
    "id": "4wPtILTJMp1J",
    "outputId": "5dd17337-22f9-4278-fd9f-8312b3e7d6c9"
   },
   "outputs": [],
   "source": [
    "df_train = data.sample(100000, random_state=1).reset_index(drop=True)"
   ]
  },
  {
   "cell_type": "code",
   "execution_count": 4,
   "metadata": {},
   "outputs": [
    {
     "data": {
      "text/html": [
       "<div>\n",
       "<style scoped>\n",
       "    .dataframe tbody tr th:only-of-type {\n",
       "        vertical-align: middle;\n",
       "    }\n",
       "\n",
       "    .dataframe tbody tr th {\n",
       "        vertical-align: top;\n",
       "    }\n",
       "\n",
       "    .dataframe thead th {\n",
       "        text-align: right;\n",
       "    }\n",
       "</style>\n",
       "<table border=\"1\" class=\"dataframe\">\n",
       "  <thead>\n",
       "    <tr style=\"text-align: right;\">\n",
       "      <th></th>\n",
       "      <th>Unnamed: 0</th>\n",
       "      <th>entity_1</th>\n",
       "      <th>entity_2</th>\n",
       "      <th>tag</th>\n",
       "    </tr>\n",
       "  </thead>\n",
       "  <tbody>\n",
       "    <tr>\n",
       "      <th>0</th>\n",
       "      <td>7752920</td>\n",
       "      <td>scherer automotive incorporated.</td>\n",
       "      <td>elektroshchit A.O</td>\n",
       "      <td>0</td>\n",
       "    </tr>\n",
       "    <tr>\n",
       "      <th>1</th>\n",
       "      <td>5148830</td>\n",
       "      <td>technical supplies international llc</td>\n",
       "      <td>c&amp;t reinforcing steel</td>\n",
       "      <td>0</td>\n",
       "    </tr>\n",
       "    <tr>\n",
       "      <th>2</th>\n",
       "      <td>725115</td>\n",
       "      <td>Campania Motori SRL</td>\n",
       "      <td>campania motori</td>\n",
       "      <td>1</td>\n",
       "    </tr>\n",
       "    <tr>\n",
       "      <th>3</th>\n",
       "      <td>3358104</td>\n",
       "      <td>rockford manufacturing group</td>\n",
       "      <td>Rockford Manufacturing Group Inc</td>\n",
       "      <td>1</td>\n",
       "    </tr>\n",
       "    <tr>\n",
       "      <th>4</th>\n",
       "      <td>7443139</td>\n",
       "      <td>organik kimya netherlands</td>\n",
       "      <td>pro-line shipping ))</td>\n",
       "      <td>0</td>\n",
       "    </tr>\n",
       "    <tr>\n",
       "      <th>...</th>\n",
       "      <td>...</td>\n",
       "      <td>...</td>\n",
       "      <td>...</td>\n",
       "      <td>...</td>\n",
       "    </tr>\n",
       "    <tr>\n",
       "      <th>99995</th>\n",
       "      <td>5825486</td>\n",
       "      <td>hazle auto parts</td>\n",
       "      <td>ferlog nsorzio stabile</td>\n",
       "      <td>0</td>\n",
       "    </tr>\n",
       "    <tr>\n",
       "      <th>99996</th>\n",
       "      <td>5281981</td>\n",
       "      <td>schlueter a.i.r Co.nditioning and refrigeration</td>\n",
       "      <td>Cherubini France</td>\n",
       "      <td>0</td>\n",
       "    </tr>\n",
       "    <tr>\n",
       "      <th>99997</th>\n",
       "      <td>7831741</td>\n",
       "      <td>shanghai rongtai health</td>\n",
       "      <td>ineos oxide LTD</td>\n",
       "      <td>0</td>\n",
       "    </tr>\n",
       "    <tr>\n",
       "      <th>99998</th>\n",
       "      <td>6374489</td>\n",
       "      <td>international shipping lines</td>\n",
       "      <td>k c discounts</td>\n",
       "      <td>0</td>\n",
       "    </tr>\n",
       "    <tr>\n",
       "      <th>99999</th>\n",
       "      <td>3180110</td>\n",
       "      <td>Promenergo AO</td>\n",
       "      <td>promenergo A.O.</td>\n",
       "      <td>1</td>\n",
       "    </tr>\n",
       "  </tbody>\n",
       "</table>\n",
       "<p>100000 rows × 4 columns</p>\n",
       "</div>"
      ],
      "text/plain": [
       "       Unnamed: 0                                         entity_1  \\\n",
       "0         7752920                 scherer automotive incorporated.   \n",
       "1         5148830             technical supplies international llc   \n",
       "2          725115                              Campania Motori SRL   \n",
       "3         3358104                     rockford manufacturing group   \n",
       "4         7443139                        organik kimya netherlands   \n",
       "...           ...                                              ...   \n",
       "99995     5825486                                 hazle auto parts   \n",
       "99996     5281981  schlueter a.i.r Co.nditioning and refrigeration   \n",
       "99997     7831741                          shanghai rongtai health   \n",
       "99998     6374489                     international shipping lines   \n",
       "99999     3180110                                    Promenergo AO   \n",
       "\n",
       "                               entity_2  tag  \n",
       "0                     elektroshchit A.O    0  \n",
       "1                 c&t reinforcing steel    0  \n",
       "2                       campania motori    1  \n",
       "3      Rockford Manufacturing Group Inc    1  \n",
       "4                  pro-line shipping ))    0  \n",
       "...                                 ...  ...  \n",
       "99995            ferlog nsorzio stabile    0  \n",
       "99996                  Cherubini France    0  \n",
       "99997                   ineos oxide LTD    0  \n",
       "99998                     k c discounts    0  \n",
       "99999                   promenergo A.O.    1  \n",
       "\n",
       "[100000 rows x 4 columns]"
      ]
     },
     "execution_count": 4,
     "metadata": {},
     "output_type": "execute_result"
    }
   ],
   "source": [
    "df_train"
   ]
  },
  {
   "cell_type": "markdown",
   "metadata": {},
   "source": [
    "## 3-gram Analyzer for the TF-IDF Vectorizer"
   ]
  },
  {
   "cell_type": "code",
   "execution_count": 5,
   "metadata": {
    "colab": {
     "base_uri": "https://localhost:8080/"
    },
    "execution": {
     "iopub.execute_input": "2022-08-05T08:47:48.027918Z",
     "iopub.status.busy": "2022-08-05T08:47:48.025844Z",
     "iopub.status.idle": "2022-08-05T08:48:02.987131Z",
     "shell.execute_reply": "2022-08-05T08:48:02.985402Z",
     "shell.execute_reply.started": "2022-08-05T08:47:48.027846Z"
    },
    "id": "EkHGrkU3AqRL",
    "outputId": "020c60c3-1d7a-4317-c007-4d84099642cb"
   },
   "outputs": [],
   "source": [
    "# Text preprocessing for cleaning the text from unnecessary character, punctuation and encoding-decoding issues \n",
    "\n",
    "def ngrams(string, n=3):\n",
    "    string = str(string)\n",
    "    \n",
    "    # Fixes text for any possible decoding issues\n",
    "    string = fix_text(string)\n",
    "    \n",
    "    # Removes non ascii chars\n",
    "    string = string.lower()\n",
    "    string = string.encode(\"ascii\", errors=\"ignore\").decode()\n",
    "    \n",
    "    # Cleaning unrelevant characters\n",
    "    chars_to_remove = [\")\",\"(\",\".\",\"|\",\"[\",\"]\",\"{\",\"}\",\"'\"]\n",
    "    rx = '[' + re.escape(''.join(chars_to_remove)) + ']'\n",
    "    string = re.sub(rx, '', string)\n",
    "    string = string.replace('&', 'and')\n",
    "    string = string.replace(',', ' ')\n",
    "    string = string.replace('-', ' ')\n",
    "    string = string.title() \n",
    "    string = re.sub(' +',' ',string).strip()\n",
    "    string = ' '+ string +' '\n",
    "    string = re.sub(r'[,-./]|\\sBD',r'', string)\n",
    "    ngrams = zip(*[string[i:] for i in range(n)])\n",
    "    return [''.join(ngram) for ngram in ngrams]"
   ]
  },
  {
   "cell_type": "markdown",
   "metadata": {},
   "source": [
    "## TF-IDF vectorization to obtain document-term matrix for the entity_1 column"
   ]
  },
  {
   "cell_type": "code",
   "execution_count": 6,
   "metadata": {},
   "outputs": [],
   "source": [
    "entity_1 = df_train['entity_1'].unique()\n",
    "entity_1 = entity_1.astype('U')\n",
    "\n",
    "# Vectorizes the first entities, used ngrams function defined above for the analyzer\n",
    "vectorizer = TfidfVectorizer(min_df=1, analyzer=ngrams, lowercase=False)\n",
    "# Used fit_transform obtain document-term matrix\n",
    "tfidf = vectorizer.fit_transform(entity_1)"
   ]
  },
  {
   "cell_type": "markdown",
   "metadata": {},
   "source": [
    "## Nearest Neighbors algorithm to fit TF-IDF matrix"
   ]
  },
  {
   "cell_type": "code",
   "execution_count": 7,
   "metadata": {
    "colab": {
     "base_uri": "https://localhost:8080/"
    },
    "execution": {
     "iopub.execute_input": "2022-08-05T08:48:37.500993Z",
     "iopub.status.busy": "2022-08-05T08:48:37.500546Z",
     "iopub.status.idle": "2022-08-05T08:48:43.383965Z",
     "shell.execute_reply": "2022-08-05T08:48:43.382519Z",
     "shell.execute_reply.started": "2022-08-05T08:48:37.500956Z"
    },
    "id": "SBnjaAlWAWKi",
    "outputId": "53759cba-3509-4991-f32e-6c98208cf39a"
   },
   "outputs": [
    {
     "name": "stdout",
     "output_type": "stream",
     "text": [
      "Completed in: 142.12506818771362\n"
     ]
    }
   ],
   "source": [
    "# Create the kNN-model and learn from TF-IDF matrix\n",
    "nbrs = NearestNeighbors(n_neighbors=1, n_jobs=-1).fit(tfidf)\n",
    "unique_org = df_train['entity_2'].values.astype('U').tolist()\n",
    "\n",
    "# We will use the Eucledian distance (which is default) of two TF-IDF matrices.\n",
    "def getNearestN(query):\n",
    "    # Returns a number document-term matrix\n",
    "    queryTFIDF_ = vectorizer.transform(query) \n",
    "    distances, _ = nbrs.kneighbors(queryTFIDF_)\n",
    "    return distances, _\n",
    "\n",
    "start_time = time.time()\n",
    "distances, _ = getNearestN(unique_org)\n",
    "t = time.time() - start_time\n",
    "print(\"Completed in:\", t)"
   ]
  },
  {
   "cell_type": "code",
   "execution_count": 8,
   "metadata": {
    "colab": {
     "base_uri": "https://localhost:8080/"
    },
    "execution": {
     "iopub.execute_input": "2022-08-05T08:49:20.262122Z",
     "iopub.status.busy": "2022-08-05T08:49:20.261694Z",
     "iopub.status.idle": "2022-08-05T08:49:20.300051Z",
     "shell.execute_reply": "2022-08-05T08:49:20.298385Z",
     "shell.execute_reply.started": "2022-08-05T08:49:20.262086Z"
    },
    "id": "eXz0kHK8Mp1L",
    "outputId": "8fdfd17e-c892-4210-c7cb-828dd9ec3857"
   },
   "outputs": [
    {
     "name": "stderr",
     "output_type": "stream",
     "text": [
      "/var/folders/lm/rk8xxt2d38l4q9tqcd1s50g80000gn/T/ipykernel_15190/180660290.py:4: SettingWithCopyWarning: \n",
      "A value is trying to be set on a copy of a slice from a DataFrame.\n",
      "Try using .loc[row_indexer,col_indexer] = value instead\n",
      "\n",
      "See the caveats in the documentation: https://pandas.pydata.org/pandas-docs/stable/user_guide/indexing.html#returning-a-view-versus-a-copy\n",
      "  final_match['Distance'] = final_match['Distance'].apply(lambda col: round(col,2))\n"
     ]
    }
   ],
   "source": [
    "final_match = df_train[['entity_1']]\n",
    "final_match.insert(1, 'entity_2', unique_org, True)\n",
    "final_match.insert(2, 'Distance', distances, True)\n",
    "final_match['Distance'] = final_match['Distance'].apply(lambda col: round(col,2))"
   ]
  },
  {
   "cell_type": "code",
   "execution_count": 9,
   "metadata": {},
   "outputs": [
    {
     "data": {
      "text/plain": [
       "True"
      ]
     },
     "execution_count": 9,
     "metadata": {},
     "output_type": "execute_result"
    }
   ],
   "source": [
    "final_match[['entity_1','entity_2']].equals(df_train[['entity_1','entity_2']])"
   ]
  },
  {
   "cell_type": "markdown",
   "metadata": {},
   "source": [
    "## Applied sklearn's MinMaxScaler to scale the distances between the range of 0 and 1"
   ]
  },
  {
   "cell_type": "code",
   "execution_count": 10,
   "metadata": {},
   "outputs": [],
   "source": [
    "#First scaled the distance by using min max scaler\n",
    "x = final_match['Distance'].values.reshape(-1,1)\n",
    "min_max_scaler = MinMaxScaler()\n",
    "scaled_conf = pd.Series(min_max_scaler.fit_transform(x).reshape(-1))\n",
    "final_match.insert(3, \"Scaled_Distance\", scaled_conf, True)\n",
    "final_match['Scaled_Distance'] = final_match['Scaled_Distance'].apply(lambda col: round(col,2))"
   ]
  },
  {
   "cell_type": "markdown",
   "metadata": {},
   "source": [
    "## Since the distances and similarity probabilities are inversely proportional, I obtained the probabilities by: 1 - scaled_distance"
   ]
  },
  {
   "cell_type": "code",
   "execution_count": 11,
   "metadata": {},
   "outputs": [],
   "source": [
    "proba = 1 - final_match['Scaled_Distance']\n",
    "final_match.insert(4, \"Probability\", proba, True)"
   ]
  },
  {
   "cell_type": "code",
   "execution_count": 12,
   "metadata": {},
   "outputs": [],
   "source": [
    "tag = df_train['tag']\n",
    "final_match.insert(5, 'Tag', tag, True)"
   ]
  },
  {
   "cell_type": "code",
   "execution_count": 13,
   "metadata": {},
   "outputs": [],
   "source": [
    "predicted = []\n",
    "for i in range(df_train.shape[0]):\n",
    "    if final_match['Probability'].iloc[i] >= 0.55:\n",
    "        predicted.append(1)\n",
    "    else:\n",
    "        predicted.append(0)"
   ]
  },
  {
   "cell_type": "code",
   "execution_count": 14,
   "metadata": {},
   "outputs": [],
   "source": [
    "final_match.insert(6, 'Predicted', predicted, True)"
   ]
  },
  {
   "cell_type": "code",
   "execution_count": 15,
   "metadata": {},
   "outputs": [
    {
     "data": {
      "text/html": [
       "<div>\n",
       "<style scoped>\n",
       "    .dataframe tbody tr th:only-of-type {\n",
       "        vertical-align: middle;\n",
       "    }\n",
       "\n",
       "    .dataframe tbody tr th {\n",
       "        vertical-align: top;\n",
       "    }\n",
       "\n",
       "    .dataframe thead th {\n",
       "        text-align: right;\n",
       "    }\n",
       "</style>\n",
       "<table border=\"1\" class=\"dataframe\">\n",
       "  <thead>\n",
       "    <tr style=\"text-align: right;\">\n",
       "      <th></th>\n",
       "      <th>entity_1</th>\n",
       "      <th>entity_2</th>\n",
       "      <th>Distance</th>\n",
       "      <th>Scaled_Distance</th>\n",
       "      <th>Probability</th>\n",
       "      <th>Tag</th>\n",
       "      <th>Predicted</th>\n",
       "    </tr>\n",
       "  </thead>\n",
       "  <tbody>\n",
       "    <tr>\n",
       "      <th>0</th>\n",
       "      <td>scherer automotive incorporated.</td>\n",
       "      <td>elektroshchit A.O</td>\n",
       "      <td>0.81</td>\n",
       "      <td>0.62</td>\n",
       "      <td>0.38</td>\n",
       "      <td>0</td>\n",
       "      <td>0</td>\n",
       "    </tr>\n",
       "    <tr>\n",
       "      <th>1</th>\n",
       "      <td>technical supplies international llc</td>\n",
       "      <td>c&amp;t reinforcing steel</td>\n",
       "      <td>0.79</td>\n",
       "      <td>0.61</td>\n",
       "      <td>0.39</td>\n",
       "      <td>0</td>\n",
       "      <td>0</td>\n",
       "    </tr>\n",
       "    <tr>\n",
       "      <th>2</th>\n",
       "      <td>Campania Motori SRL</td>\n",
       "      <td>campania motori</td>\n",
       "      <td>0.45</td>\n",
       "      <td>0.35</td>\n",
       "      <td>0.65</td>\n",
       "      <td>1</td>\n",
       "      <td>1</td>\n",
       "    </tr>\n",
       "    <tr>\n",
       "      <th>3</th>\n",
       "      <td>rockford manufacturing group</td>\n",
       "      <td>Rockford Manufacturing Group Inc</td>\n",
       "      <td>0.25</td>\n",
       "      <td>0.19</td>\n",
       "      <td>0.81</td>\n",
       "      <td>1</td>\n",
       "      <td>1</td>\n",
       "    </tr>\n",
       "    <tr>\n",
       "      <th>4</th>\n",
       "      <td>organik kimya netherlands</td>\n",
       "      <td>pro-line shipping ))</td>\n",
       "      <td>0.72</td>\n",
       "      <td>0.55</td>\n",
       "      <td>0.45</td>\n",
       "      <td>0</td>\n",
       "      <td>0</td>\n",
       "    </tr>\n",
       "    <tr>\n",
       "      <th>...</th>\n",
       "      <td>...</td>\n",
       "      <td>...</td>\n",
       "      <td>...</td>\n",
       "      <td>...</td>\n",
       "      <td>...</td>\n",
       "      <td>...</td>\n",
       "      <td>...</td>\n",
       "    </tr>\n",
       "    <tr>\n",
       "      <th>99995</th>\n",
       "      <td>hazle auto parts</td>\n",
       "      <td>ferlog nsorzio stabile</td>\n",
       "      <td>1.05</td>\n",
       "      <td>0.81</td>\n",
       "      <td>0.19</td>\n",
       "      <td>0</td>\n",
       "      <td>0</td>\n",
       "    </tr>\n",
       "    <tr>\n",
       "      <th>99996</th>\n",
       "      <td>schlueter a.i.r Co.nditioning and refrigeration</td>\n",
       "      <td>Cherubini France</td>\n",
       "      <td>1.05</td>\n",
       "      <td>0.81</td>\n",
       "      <td>0.19</td>\n",
       "      <td>0</td>\n",
       "      <td>0</td>\n",
       "    </tr>\n",
       "    <tr>\n",
       "      <th>99997</th>\n",
       "      <td>shanghai rongtai health</td>\n",
       "      <td>ineos oxide LTD</td>\n",
       "      <td>0.95</td>\n",
       "      <td>0.73</td>\n",
       "      <td>0.27</td>\n",
       "      <td>0</td>\n",
       "      <td>0</td>\n",
       "    </tr>\n",
       "    <tr>\n",
       "      <th>99998</th>\n",
       "      <td>international shipping lines</td>\n",
       "      <td>k c discounts</td>\n",
       "      <td>0.92</td>\n",
       "      <td>0.71</td>\n",
       "      <td>0.29</td>\n",
       "      <td>0</td>\n",
       "      <td>0</td>\n",
       "    </tr>\n",
       "    <tr>\n",
       "      <th>99999</th>\n",
       "      <td>Promenergo AO</td>\n",
       "      <td>promenergo A.O.</td>\n",
       "      <td>0.00</td>\n",
       "      <td>0.00</td>\n",
       "      <td>1.00</td>\n",
       "      <td>1</td>\n",
       "      <td>1</td>\n",
       "    </tr>\n",
       "  </tbody>\n",
       "</table>\n",
       "<p>100000 rows × 7 columns</p>\n",
       "</div>"
      ],
      "text/plain": [
       "                                              entity_1  \\\n",
       "0                     scherer automotive incorporated.   \n",
       "1                 technical supplies international llc   \n",
       "2                                  Campania Motori SRL   \n",
       "3                         rockford manufacturing group   \n",
       "4                            organik kimya netherlands   \n",
       "...                                                ...   \n",
       "99995                                 hazle auto parts   \n",
       "99996  schlueter a.i.r Co.nditioning and refrigeration   \n",
       "99997                          shanghai rongtai health   \n",
       "99998                     international shipping lines   \n",
       "99999                                    Promenergo AO   \n",
       "\n",
       "                               entity_2  Distance  Scaled_Distance  \\\n",
       "0                     elektroshchit A.O      0.81             0.62   \n",
       "1                 c&t reinforcing steel      0.79             0.61   \n",
       "2                       campania motori      0.45             0.35   \n",
       "3      Rockford Manufacturing Group Inc      0.25             0.19   \n",
       "4                  pro-line shipping ))      0.72             0.55   \n",
       "...                                 ...       ...              ...   \n",
       "99995            ferlog nsorzio stabile      1.05             0.81   \n",
       "99996                  Cherubini France      1.05             0.81   \n",
       "99997                   ineos oxide LTD      0.95             0.73   \n",
       "99998                     k c discounts      0.92             0.71   \n",
       "99999                   promenergo A.O.      0.00             0.00   \n",
       "\n",
       "       Probability  Tag  Predicted  \n",
       "0             0.38    0          0  \n",
       "1             0.39    0          0  \n",
       "2             0.65    1          1  \n",
       "3             0.81    1          1  \n",
       "4             0.45    0          0  \n",
       "...            ...  ...        ...  \n",
       "99995         0.19    0          0  \n",
       "99996         0.19    0          0  \n",
       "99997         0.27    0          0  \n",
       "99998         0.29    0          0  \n",
       "99999         1.00    1          1  \n",
       "\n",
       "[100000 rows x 7 columns]"
      ]
     },
     "execution_count": 15,
     "metadata": {},
     "output_type": "execute_result"
    }
   ],
   "source": [
    "final_match"
   ]
  },
  {
   "cell_type": "markdown",
   "metadata": {},
   "source": [
    "## Sub-dataframe to see the output probabilities clearly"
   ]
  },
  {
   "cell_type": "code",
   "execution_count": 16,
   "metadata": {},
   "outputs": [
    {
     "data": {
      "text/html": [
       "<div>\n",
       "<style scoped>\n",
       "    .dataframe tbody tr th:only-of-type {\n",
       "        vertical-align: middle;\n",
       "    }\n",
       "\n",
       "    .dataframe tbody tr th {\n",
       "        vertical-align: top;\n",
       "    }\n",
       "\n",
       "    .dataframe thead th {\n",
       "        text-align: right;\n",
       "    }\n",
       "</style>\n",
       "<table border=\"1\" class=\"dataframe\">\n",
       "  <thead>\n",
       "    <tr style=\"text-align: right;\">\n",
       "      <th></th>\n",
       "      <th>entity_1</th>\n",
       "      <th>entity_2</th>\n",
       "      <th>Probability</th>\n",
       "    </tr>\n",
       "  </thead>\n",
       "  <tbody>\n",
       "    <tr>\n",
       "      <th>0</th>\n",
       "      <td>scherer automotive incorporated.</td>\n",
       "      <td>elektroshchit A.O</td>\n",
       "      <td>0.38</td>\n",
       "    </tr>\n",
       "    <tr>\n",
       "      <th>1</th>\n",
       "      <td>technical supplies international llc</td>\n",
       "      <td>c&amp;t reinforcing steel</td>\n",
       "      <td>0.39</td>\n",
       "    </tr>\n",
       "    <tr>\n",
       "      <th>2</th>\n",
       "      <td>Campania Motori SRL</td>\n",
       "      <td>campania motori</td>\n",
       "      <td>0.65</td>\n",
       "    </tr>\n",
       "    <tr>\n",
       "      <th>3</th>\n",
       "      <td>rockford manufacturing group</td>\n",
       "      <td>Rockford Manufacturing Group Inc</td>\n",
       "      <td>0.81</td>\n",
       "    </tr>\n",
       "    <tr>\n",
       "      <th>4</th>\n",
       "      <td>organik kimya netherlands</td>\n",
       "      <td>pro-line shipping ))</td>\n",
       "      <td>0.45</td>\n",
       "    </tr>\n",
       "    <tr>\n",
       "      <th>...</th>\n",
       "      <td>...</td>\n",
       "      <td>...</td>\n",
       "      <td>...</td>\n",
       "    </tr>\n",
       "    <tr>\n",
       "      <th>99995</th>\n",
       "      <td>hazle auto parts</td>\n",
       "      <td>ferlog nsorzio stabile</td>\n",
       "      <td>0.19</td>\n",
       "    </tr>\n",
       "    <tr>\n",
       "      <th>99996</th>\n",
       "      <td>schlueter a.i.r Co.nditioning and refrigeration</td>\n",
       "      <td>Cherubini France</td>\n",
       "      <td>0.19</td>\n",
       "    </tr>\n",
       "    <tr>\n",
       "      <th>99997</th>\n",
       "      <td>shanghai rongtai health</td>\n",
       "      <td>ineos oxide LTD</td>\n",
       "      <td>0.27</td>\n",
       "    </tr>\n",
       "    <tr>\n",
       "      <th>99998</th>\n",
       "      <td>international shipping lines</td>\n",
       "      <td>k c discounts</td>\n",
       "      <td>0.29</td>\n",
       "    </tr>\n",
       "    <tr>\n",
       "      <th>99999</th>\n",
       "      <td>Promenergo AO</td>\n",
       "      <td>promenergo A.O.</td>\n",
       "      <td>1.00</td>\n",
       "    </tr>\n",
       "  </tbody>\n",
       "</table>\n",
       "<p>100000 rows × 3 columns</p>\n",
       "</div>"
      ],
      "text/plain": [
       "                                              entity_1  \\\n",
       "0                     scherer automotive incorporated.   \n",
       "1                 technical supplies international llc   \n",
       "2                                  Campania Motori SRL   \n",
       "3                         rockford manufacturing group   \n",
       "4                            organik kimya netherlands   \n",
       "...                                                ...   \n",
       "99995                                 hazle auto parts   \n",
       "99996  schlueter a.i.r Co.nditioning and refrigeration   \n",
       "99997                          shanghai rongtai health   \n",
       "99998                     international shipping lines   \n",
       "99999                                    Promenergo AO   \n",
       "\n",
       "                               entity_2  Probability  \n",
       "0                     elektroshchit A.O         0.38  \n",
       "1                 c&t reinforcing steel         0.39  \n",
       "2                       campania motori         0.65  \n",
       "3      Rockford Manufacturing Group Inc         0.81  \n",
       "4                  pro-line shipping ))         0.45  \n",
       "...                                 ...          ...  \n",
       "99995            ferlog nsorzio stabile         0.19  \n",
       "99996                  Cherubini France         0.19  \n",
       "99997                   ineos oxide LTD         0.27  \n",
       "99998                     k c discounts         0.29  \n",
       "99999                   promenergo A.O.         1.00  \n",
       "\n",
       "[100000 rows x 3 columns]"
      ]
     },
     "execution_count": 16,
     "metadata": {},
     "output_type": "execute_result"
    }
   ],
   "source": [
    "final_match[['entity_1','entity_2','Probability']]"
   ]
  },
  {
   "cell_type": "markdown",
   "metadata": {},
   "source": [
    "## Evaluation"
   ]
  },
  {
   "cell_type": "markdown",
   "metadata": {},
   "source": [
    "I obtained a classification report and a confusion matrix to obtain the F-1 score of the model, which is a good metric for the model."
   ]
  },
  {
   "cell_type": "code",
   "execution_count": 17,
   "metadata": {},
   "outputs": [
    {
     "name": "stdout",
     "output_type": "stream",
     "text": [
      "              precision    recall  f1-score   support\n",
      "\n",
      "           0       0.91      0.85      0.88     58919\n",
      "           1       0.80      0.88      0.84     41081\n",
      "\n",
      "    accuracy                           0.86    100000\n",
      "   macro avg       0.86      0.86      0.86    100000\n",
      "weighted avg       0.87      0.86      0.86    100000\n",
      "\n"
     ]
    }
   ],
   "source": [
    "print(classification_report(final_match['Tag'], final_match['Predicted']))"
   ]
  },
  {
   "cell_type": "code",
   "execution_count": 18,
   "metadata": {},
   "outputs": [
    {
     "name": "stdout",
     "output_type": "stream",
     "text": [
      "[[49850  9069]\n",
      " [ 4807 36274]]\n"
     ]
    }
   ],
   "source": [
    "print(confusion_matrix(final_match['Tag'], final_match['Predicted']))"
   ]
  },
  {
   "cell_type": "markdown",
   "metadata": {},
   "source": [
    "## Suggestions for Production"
   ]
  },
  {
   "cell_type": "markdown",
   "metadata": {},
   "source": [
    "Unlike this work which I trained on 100K samples, the corpus could be trained on a larger sample with a greater GPU capacity. Model could be further developed also by hyper-parameter tuning after a longer training. Model that is trained with a large corpus could be saved and new entities could be scored."
   ]
  },
  {
   "cell_type": "code",
   "execution_count": 2,
   "metadata": {},
   "outputs": [
    {
     "data": {
      "text/html": [
       "<div>\n",
       "<style scoped>\n",
       "    .dataframe tbody tr th:only-of-type {\n",
       "        vertical-align: middle;\n",
       "    }\n",
       "\n",
       "    .dataframe tbody tr th {\n",
       "        vertical-align: top;\n",
       "    }\n",
       "\n",
       "    .dataframe thead th {\n",
       "        text-align: right;\n",
       "    }\n",
       "</style>\n",
       "<table border=\"1\" class=\"dataframe\">\n",
       "  <thead>\n",
       "    <tr style=\"text-align: right;\">\n",
       "      <th></th>\n",
       "      <th>Unnamed: 0</th>\n",
       "      <th>entity_1</th>\n",
       "      <th>entity_2</th>\n",
       "      <th>tag</th>\n",
       "    </tr>\n",
       "  </thead>\n",
       "  <tbody>\n",
       "    <tr>\n",
       "      <th>0</th>\n",
       "      <td>3137667</td>\n",
       "      <td>preciform A.B</td>\n",
       "      <td>Preciform AB</td>\n",
       "      <td>1</td>\n",
       "    </tr>\n",
       "    <tr>\n",
       "      <th>1</th>\n",
       "      <td>5515816</td>\n",
       "      <td>degener staplertechnik vertriebs-gmbh</td>\n",
       "      <td>Irshim</td>\n",
       "      <td>0</td>\n",
       "    </tr>\n",
       "    <tr>\n",
       "      <th>2</th>\n",
       "      <td>215797</td>\n",
       "      <td>Alltel South CaroliNA Inc</td>\n",
       "      <td>alltel south carolina INC.</td>\n",
       "      <td>1</td>\n",
       "    </tr>\n",
       "    <tr>\n",
       "      <th>3</th>\n",
       "      <td>1004621</td>\n",
       "      <td>cse Corporation</td>\n",
       "      <td>Cse Corp</td>\n",
       "      <td>1</td>\n",
       "    </tr>\n",
       "    <tr>\n",
       "      <th>4</th>\n",
       "      <td>1698689</td>\n",
       "      <td>Gruppo D Motors Srl</td>\n",
       "      <td>gruppo d motors Sociedad de Resposabilidad Lim...</td>\n",
       "      <td>1</td>\n",
       "    </tr>\n",
       "    <tr>\n",
       "      <th>...</th>\n",
       "      <td>...</td>\n",
       "      <td>...</td>\n",
       "      <td>...</td>\n",
       "      <td>...</td>\n",
       "    </tr>\n",
       "    <tr>\n",
       "      <th>7042841</th>\n",
       "      <td>5488853</td>\n",
       "      <td>danbury fair hyundai</td>\n",
       "      <td>alfredo's foreign cars</td>\n",
       "      <td>0</td>\n",
       "    </tr>\n",
       "    <tr>\n",
       "      <th>7042842</th>\n",
       "      <td>3885538</td>\n",
       "      <td>T B I T Tecnologia &amp; Sistemas SA</td>\n",
       "      <td>t b i t tecnologia +</td>\n",
       "      <td>1</td>\n",
       "    </tr>\n",
       "    <tr>\n",
       "      <th>7042843</th>\n",
       "      <td>3803061</td>\n",
       "      <td>stereographics Corp)</td>\n",
       "      <td>Stereographics Corp</td>\n",
       "      <td>1</td>\n",
       "    </tr>\n",
       "    <tr>\n",
       "      <th>7042844</th>\n",
       "      <td>3594810</td>\n",
       "      <td>Shanghai Mingdou Chemical CoLTD</td>\n",
       "      <td>shanghai mingdou chemical</td>\n",
       "      <td>1</td>\n",
       "    </tr>\n",
       "    <tr>\n",
       "      <th>7042845</th>\n",
       "      <td>6040675</td>\n",
       "      <td>good measure corp</td>\n",
       "      <td>factory SAles and engineering inc</td>\n",
       "      <td>0</td>\n",
       "    </tr>\n",
       "  </tbody>\n",
       "</table>\n",
       "<p>7042846 rows × 4 columns</p>\n",
       "</div>"
      ],
      "text/plain": [
       "         Unnamed: 0                               entity_1  \\\n",
       "0           3137667                          preciform A.B   \n",
       "1           5515816  degener staplertechnik vertriebs-gmbh   \n",
       "2            215797              Alltel South CaroliNA Inc   \n",
       "3           1004621                        cse Corporation   \n",
       "4           1698689                    Gruppo D Motors Srl   \n",
       "...             ...                                    ...   \n",
       "7042841     5488853                   danbury fair hyundai   \n",
       "7042842     3885538       T B I T Tecnologia & Sistemas SA   \n",
       "7042843     3803061                   stereographics Corp)   \n",
       "7042844     3594810        Shanghai Mingdou Chemical CoLTD   \n",
       "7042845     6040675                      good measure corp   \n",
       "\n",
       "                                                  entity_2  tag  \n",
       "0                                             Preciform AB    1  \n",
       "1                                                   Irshim    0  \n",
       "2                               alltel south carolina INC.    1  \n",
       "3                                                 Cse Corp    1  \n",
       "4        gruppo d motors Sociedad de Resposabilidad Lim...    1  \n",
       "...                                                    ...  ...  \n",
       "7042841                             alfredo's foreign cars    0  \n",
       "7042842                               t b i t tecnologia +    1  \n",
       "7042843                                Stereographics Corp    1  \n",
       "7042844                          shanghai mingdou chemical    1  \n",
       "7042845                  factory SAles and engineering inc    0  \n",
       "\n",
       "[7042846 rows x 4 columns]"
      ]
     },
     "execution_count": 2,
     "metadata": {},
     "output_type": "execute_result"
    }
   ],
   "source": [
    "import pandas as pd\n",
    "data = pd.read_csv('ds_challenge_alpas.csv')\n",
    "data"
   ]
  },
  {
   "cell_type": "code",
   "execution_count": 4,
   "metadata": {},
   "outputs": [],
   "source": [
    "data = data.sample(5000).reset_index(drop=True)\n",
    "data.to_csv('ds_challgenge_5000.csv', index=False)"
   ]
  },
  {
   "cell_type": "code",
   "execution_count": null,
   "metadata": {},
   "outputs": [],
   "source": []
  }
 ],
 "metadata": {
  "colab": {
   "collapsed_sections": [],
   "name": "entity-matching.ipynb",
   "provenance": []
  },
  "kernelspec": {
   "display_name": "Python 3",
   "language": "python",
   "name": "python3"
  },
  "language_info": {
   "codemirror_mode": {
    "name": "ipython",
    "version": 3
   },
   "file_extension": ".py",
   "mimetype": "text/x-python",
   "name": "python",
   "nbconvert_exporter": "python",
   "pygments_lexer": "ipython3",
   "version": "3.8.5"
  }
 },
 "nbformat": 4,
 "nbformat_minor": 1
}
